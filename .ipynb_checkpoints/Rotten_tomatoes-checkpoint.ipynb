{
 "cells": [
  {
   "cell_type": "markdown",
   "id": "60edec73",
   "metadata": {},
   "source": [
    "## Data import"
   ]
  },
  {
   "cell_type": "code",
   "execution_count": 10,
   "id": "38f2bbf5",
   "metadata": {},
   "outputs": [
    {
     "name": "stdout",
     "output_type": "stream",
     "text": [
      "Cleverminer version  1.0.2  educational version. For production use (bugfixes and keeping compatibility), ask for PRO version.\n"
     ]
    }
   ],
   "source": [
    "import pandas as pd\n",
    "from tqdm.notebook import tqdm_notebook, tqdm\n",
    "import numpy as np\n",
    "from cleverminer import cleverminer"
   ]
  },
  {
   "cell_type": "code",
   "execution_count": 2,
   "id": "82057f97",
   "metadata": {},
   "outputs": [],
   "source": [
    "# movies\n",
    "movies = pd.read_csv('./data/rotten_tomatoes_movies.csv', index_col = 'rotten_tomatoes_link')"
   ]
  },
  {
   "cell_type": "code",
   "execution_count": 3,
   "id": "4b7e219c",
   "metadata": {},
   "outputs": [],
   "source": [
    "# rotten_tomatoes_critic_reviews was too big it had to be split to be uploaded to GITHub\n",
    "filenames = ['rotten_tomatoes_critic_reviews.csv', 'rotten_tomato_reviews_1.csv', 'rotten_tomato_reviews_2.csv', 'rotten_tomato_reviews_3.csv', 'rotten_tomato_reviews_4.csv', 'rotten_tomato_reviews_5.csv']\n",
    "reviews_list = []\n",
    "\n",
    "for filename in filenames:\n",
    "    review = pd.read_csv(f'./data/{filename}', index_col='rotten_tomatoes_link')\n",
    "    reviews_list.append(review)\n",
    "\n",
    "# combining the critics review dataset back together\n",
    "reviews = pd.concat(reviews_list)"
   ]
  },
  {
   "cell_type": "markdown",
   "id": "5146add6",
   "metadata": {},
   "source": [
    "## Data preprocessing"
   ]
  },
  {
   "cell_type": "markdown",
   "id": "ee717938",
   "metadata": {},
   "source": [
    "### movies"
   ]
  },
  {
   "cell_type": "code",
   "execution_count": 4,
   "id": "84dde5ed",
   "metadata": {},
   "outputs": [],
   "source": [
    "# deleting useless columna movies_info, critics_consensus containing long strings\n",
    "movies.drop('movie_info', axis=1, inplace=True)\n",
    "movies.drop('critics_consensus', axis=1, inplace=True)"
   ]
  },
  {
   "cell_type": "markdown",
   "id": "a895d851",
   "metadata": {},
   "source": [
    "### reviews"
   ]
  },
  {
   "cell_type": "code",
   "execution_count": 5,
   "id": "b80590c9",
   "metadata": {},
   "outputs": [],
   "source": [
    "# dropping rows with missing review_score values\n",
    "reviews = reviews[reviews['review_score'].notna()]\n",
    "\n",
    "# deleting useless column review_cotent containing long strings\n",
    "reviews = reviews.drop('review_content', axis=1)"
   ]
  },
  {
   "cell_type": "code",
   "execution_count": 6,
   "id": "8e9313c1",
   "metadata": {},
   "outputs": [],
   "source": [
    "#unique values in review_score \n",
    "# unq = reviews['review_score'].unique()\n",
    "# unq.sort()\n",
    "# unq\n",
    "\n",
    "#moje poznamky co napsat do zpravy\n",
    "#FILTROVANI DAT NA ZAKLADE CRITICS_SCORE\n",
    "# DLE RAUCHA JE TO OK..\n",
    "# --- vime o tom a vysledek muze byt timto zpusobem zkreslen"
   ]
  },
  {
   "cell_type": "code",
   "execution_count": 7,
   "id": "9a4242fd",
   "metadata": {},
   "outputs": [],
   "source": [
    "# deleting reviews with non-numeric review scores (approx 80 000 values)\n",
    "reviews = reviews[reviews['review_score'].str.contains('[A-Za-z]') == False]\n",
    "\n",
    "# splitting review scores into columns\n",
    "split = reviews['review_score'].str.split('/')\n",
    "\n",
    " #calculating percentage scores\n",
    "scores =  pd.to_numeric(split.str.get(0)) / pd.to_numeric(split.str.get(1))\n",
    "scores = scores*100\n",
    "\n",
    "# assigning calculated values to the reviews scores column\n",
    "reviews['review_score'] = scores"
   ]
  },
  {
   "cell_type": "markdown",
   "id": "a294bade",
   "metadata": {},
   "source": [
    "## Final dataset"
   ]
  },
  {
   "cell_type": "code",
   "execution_count": 13,
   "id": "4adb856a",
   "metadata": {},
   "outputs": [],
   "source": [
    "#Merging the two datasets - reviews and movies\n",
    "data = pd.merge(movies, reviews, how='inner', on = 'rotten_tomatoes_link')"
   ]
  },
  {
   "cell_type": "code",
   "execution_count": 14,
   "id": "58b4b747",
   "metadata": {},
   "outputs": [],
   "source": [
    "data['actors'] = data['actors'].str.split(', ')\n",
    "\n",
    "# remove rows with missing values\n",
    "data = data[data['actors'].isnull() == False]\n",
    "data = data[data['review_score'].isnull() == False]\n",
    "data = data[np.isinf(data['review_score']) == False]"
   ]
  },
  {
   "cell_type": "markdown",
   "id": "18665351",
   "metadata": {},
   "source": [
    "## TOP10 actors"
   ]
  },
  {
   "cell_type": "code",
   "execution_count": 15,
   "id": "e6fae1c5",
   "metadata": {},
   "outputs": [
    {
     "data": {
      "application/vnd.jupyter.widget-view+json": {
       "model_id": "3ae9eca7e64449fe801eeb4d1854faf3",
       "version_major": 2,
       "version_minor": 0
      },
      "text/plain": [
       "  0%|          | 0/687766 [00:00<?, ?it/s]"
      ]
     },
     "metadata": {},
     "output_type": "display_data"
    }
   ],
   "source": [
    "# creating dict with following annotation actor: [scores]\n",
    "actor_scores = dict()\n",
    "for row in tqdm(range(data.shape[0])):\n",
    "    value = data['review_score'][row]\n",
    "    for actor in data['actors'][row]:\n",
    "        if actor not in actor_scores.keys():\n",
    "            actor_scores[actor] = [value]\n",
    "        else:\n",
    "            actor_scores[actor].append(value)"
   ]
  },
  {
   "cell_type": "code",
   "execution_count": 16,
   "id": "02b312ac",
   "metadata": {},
   "outputs": [
    {
     "data": {
      "application/vnd.jupyter.widget-view+json": {
       "model_id": "dfec9ebbca624797aa5545c80ca94028",
       "version_major": 2,
       "version_minor": 0
      },
      "text/plain": [
       "  0%|          | 0/203808 [00:00<?, ?it/s]"
      ]
     },
     "metadata": {},
     "output_type": "display_data"
    }
   ],
   "source": [
    "# calculating average scores for each actor\n",
    "final_scores = {}\n",
    "for key in tqdm(actor_scores.keys()):\n",
    "    \n",
    "    # add only actors with 3000+ reviews \n",
    "    if len(actor_scores[key]) > 3000:\n",
    "        mean = np.mean(actor_scores[key])\n",
    "        final_scores[key] = round(mean, 1)"
   ]
  },
  {
   "cell_type": "code",
   "execution_count": 17,
   "id": "40acf5fd",
   "metadata": {},
   "outputs": [
    {
     "data": {
      "text/plain": [
       "[('John Ratzenberger', 78.6),\n",
       " ('Michael Stuhlbarg', 75.2),\n",
       " ('Andy Serkis', 75.0),\n",
       " ('Adam Driver', 74.6),\n",
       " ('Leonardo DiCaprio', 73.3),\n",
       " ('Anthony Daniels', 73.1),\n",
       " ('Domhnall Gleeson', 72.5),\n",
       " ('Warwick Davis', 72.4),\n",
       " ('Tom Holland (II)', 72.3),\n",
       " ('Tilda Swinton', 72.0)]"
      ]
     },
     "execution_count": 17,
     "metadata": {},
     "output_type": "execute_result"
    }
   ],
   "source": [
    "top10 = sorted(final_scores.items(), key=lambda x: x[1], reverse=True)\n",
    "top10[0:10]"
   ]
  },
  {
   "cell_type": "markdown",
   "id": "2fe443b3",
   "metadata": {},
   "source": [
    "## Otázka 3"
   ]
  },
  {
   "cell_type": "markdown",
   "id": "3a7f8dde",
   "metadata": {},
   "source": [
    "### New columns"
   ]
  },
  {
   "cell_type": "code",
   "execution_count": 23,
   "id": "de8372a1",
   "metadata": {},
   "outputs": [],
   "source": [
    "# new column with review score intervals\n",
    "def review_score_interval(row):\n",
    "    if row['review_score'] >= 90:\n",
    "        return '>90'\n",
    "    elif row['review_score'] >= 70:\n",
    "        return '70-90'\n",
    "    elif row['review_score'] >= 50:\n",
    "        return '50-70'\n",
    "    elif row['review_score'] >= 30:\n",
    "        return '30-50'\n",
    "    else:\n",
    "        return '<30'\n",
    "\n",
    "data[\"review_score_interval\"] = data.apply(review_score_interval, axis=1)"
   ]
  },
  {
   "cell_type": "code",
   "execution_count": 24,
   "id": "862e5bca",
   "metadata": {},
   "outputs": [],
   "source": [
    "# new column with tomatometer rating interval\n",
    "def tomatometer_rating_interval(row):\n",
    "    if row['tomatometer_rating'] >= 90:\n",
    "        return '>90'\n",
    "    elif row['tomatometer_rating'] >= 70:\n",
    "        return '70-90'\n",
    "    elif row['tomatometer_rating'] >= 50:\n",
    "        return '50-70'\n",
    "    elif row['tomatometer_rating'] >= 30:\n",
    "        return '30-50'\n",
    "    else:\n",
    "        return '<30'\n",
    "\n",
    "data[\"tomatometer_rating_interval\"] = data.apply(tomatometer_rating_interval, axis=1)"
   ]
  },
  {
   "cell_type": "code",
   "execution_count": 25,
   "id": "790de3a2",
   "metadata": {},
   "outputs": [],
   "source": [
    "# new column with runtime intervals\n",
    "def runtime_interval(row):\n",
    "    if row['runtime'] >= 150:\n",
    "        return '>2.5h'\n",
    "    elif row['runtime'] >= 120:\n",
    "        return '2-2.5'\n",
    "    elif row['runtime'] >= 105:\n",
    "        return '1.75-2h'\n",
    "    elif row['runtime'] >= 90:\n",
    "        return '1.5-1.75h'\n",
    "    else:\n",
    "        return '<1.5h'\n",
    "\n",
    "data[\"runtime_interval\"] = data.apply(runtime_interval, axis=1)"
   ]
  },
  {
   "cell_type": "code",
   "execution_count": 86,
   "id": "7eae0f73",
   "metadata": {},
   "outputs": [
    {
     "name": "stderr",
     "output_type": "stream",
     "text": [
      "C:\\Users\\Dominika\\AppData\\Local\\Temp\\ipykernel_14040\\1728245172.py:10: SettingWithCopyWarning: \n",
      "A value is trying to be set on a copy of a slice from a DataFrame.\n",
      "Try using .loc[row_indexer,col_indexer] = value instead\n",
      "\n",
      "See the caveats in the documentation: https://pandas.pydata.org/pandas-docs/stable/user_guide/indexing.html#returning-a-view-versus-a-copy\n",
      "  data[\"release_decade_interval\"] = data.apply(release_decade_interval, axis=1)\n"
     ]
    }
   ],
   "source": [
    "# new column with release interval\n",
    "data = data[data['original_release_date'].notnull()]\n",
    "\n",
    "def release_decade_interval(row):\n",
    "    split = row[\"original_release_date\"].split('-')\n",
    "    year = split[0]\n",
    "    interval =  str(pd.to_numeric(year)//10*10) + '\\'s'\n",
    "    return interval\n",
    "\n",
    "data[\"release_decade_interval\"] = data.apply(release_decade_interval, axis=1)"
   ]
  },
  {
   "cell_type": "markdown",
   "id": "582fd76a",
   "metadata": {},
   "source": [
    "### 4ftMiner"
   ]
  },
  {
   "cell_type": "code",
   "execution_count": 87,
   "id": "9e422fc5",
   "metadata": {},
   "outputs": [],
   "source": [
    "from cleverminer import cleverminer"
   ]
  },
  {
   "cell_type": "code",
   "execution_count": 88,
   "id": "01133497",
   "metadata": {},
   "outputs": [
    {
     "name": "stdout",
     "output_type": "stream",
     "text": [
      "Cleverminer version 1.0.2. Note: This version is for personal and educational use only. If you need PRO version (support, fixing structures for compactibility in future versions for production deployment, additional development, licensing of commercial use of subroutines used), feel free to ask authors. Most of these functionalities are maintained in best-effort, as soon as this project is at given conditions for free use and rapid development is needed, they cannot be guaranteed.\n",
      "Warning: Python 3.10+ NOT detected. You should upgrade to Python 3.10 or greater to get better performance\n",
      "Starting data preparation ...\n",
      "Encoding columns into bit-form...\n",
      "Encoding columns into bit-form...done\n",
      "Data preparation finished.\n",
      "Will go for  4ftMiner\n",
      "Starting to mine rules.\n",
      "Done. Total verifications : 249, rules 50,control number:0, times: prep 15.51873254776001, processing 10.54705810546875\n",
      "\n",
      "CleverMiner task processing summary:\n",
      "\n",
      "Task type : 4ftMiner\n",
      "Number of verifications : 249\n",
      "Number of rules : 50\n",
      "Total time needed : 00h 00m 26s\n",
      "Time of data preparation : 00h 00m 15s\n",
      "Time of rule mining : 00h 00m 10s\n",
      "\n",
      "\n",
      "List of rules:\n",
      "RULEID BASE  CONF  AAD    Rule\n",
      "     1   112 0.830 +3.447 production_company(20th Century Fox) & release_decade_interval(1940's) => tomatometer_rating_interval(>90) | ---\n",
      "     2   241 1.000 +4.361 production_company(21 Laps Entertainment) & release_decade_interval(2010's) => tomatometer_rating_interval(>90) | ---\n",
      "     3   181 1.000 +4.361 production_company(Bad Robot Productions) & release_decade_interval(2010's) => tomatometer_rating_interval(>90) | ---\n",
      "     4   126 0.813 +3.358 production_company(CJ Entertainment) & release_decade_interval(2010's) => tomatometer_rating_interval(>90) | ---\n",
      "     5   215 0.827 +3.433 production_company(Columbia Pictures) & release_decade_interval(1950's) => tomatometer_rating_interval(>90) | ---\n",
      "     6   104 1.000 +4.361 production_company(Criterion Collection) & release_decade_interval(1920's) => tomatometer_rating_interval(>90) | ---\n",
      "     7   107 0.915 +3.902 production_company(Criterion Collection) & release_decade_interval(1940's) => tomatometer_rating_interval(>90) | ---\n",
      "     8   199 0.816 +3.372 production_company(Criterion Collection) & release_decade_interval(1950's) => tomatometer_rating_interval(>90) | ---\n",
      "     9   449 0.849 +3.550 production_company(Criterion Collection) & release_decade_interval(1960's) => tomatometer_rating_interval(>90) | ---\n",
      "    10   424 1.000 +4.361 production_company(Disney/Pixar) & release_decade_interval(2000's) => tomatometer_rating_interval(>90) | ---\n",
      "    11   904 0.871 +3.669 production_company(Disney/Pixar) & release_decade_interval(2010's) => tomatometer_rating_interval(>90) | ---\n",
      "    12   122 1.000 +4.361 production_company(Drafthouse Recommends) & release_decade_interval(2010's) => tomatometer_rating_interval(>90) | ---\n",
      "    13   372 0.925 +3.961 production_company(Element Pictures) & release_decade_interval(2010's) => tomatometer_rating_interval(>90) | ---\n",
      "    14   168 1.000 +4.361 production_company(Film 44) & release_decade_interval(2010's) => tomatometer_rating_interval(>90) | ---\n",
      "    15   166 1.000 +4.361 production_company(Fingerprint Releasing / Bleecker Street) & release_decade_interval(2010's) => tomatometer_rating_interval(>90) | ---\n",
      "    16   225 1.000 +4.361 production_company(Fox Searchlight Pictures, Film4 and Waypoint) & release_decade_interval(2010's) => tomatometer_rating_interval(>90) | ---\n",
      "    17   452 1.000 +4.361 production_company(IMAX) & release_decade_interval(2000's) => tomatometer_rating_interval(>90) | ---\n",
      "    18   157 1.000 +4.361 production_company(Ideaman Studios) & release_decade_interval(2010's) => tomatometer_rating_interval(>90) | ---\n",
      "    19   256 1.000 +4.361 production_company(Janus Films) & release_decade_interval(1950's) => tomatometer_rating_interval(>90) | ---\n",
      "    20   110 0.815 +3.368 production_company(Janus Films) & release_decade_interval(2010's) => tomatometer_rating_interval(>90) | ---\n",
      "    21   171 1.000 +4.361 production_company(June Pictures) & release_decade_interval(2010's) => tomatometer_rating_interval(>90) | ---\n",
      "    22   140 1.000 +4.361 production_company(K5 International) & release_decade_interval(2010's) => tomatometer_rating_interval(>90) | ---\n",
      "    23   117 0.836 +3.480 production_company(Kino International) & release_decade_interval(2010's) => tomatometer_rating_interval(>90) | ---\n",
      "    24   187 0.866 +3.641 production_company(MGM) & release_decade_interval(1930's) => tomatometer_rating_interval(>90) | ---\n",
      "    25   200 1.000 +4.361 production_company(National Geographic) & release_decade_interval(2010's) => tomatometer_rating_interval(>90) | ---\n",
      "    26   119 0.844 +3.524 production_company(New Video) & release_decade_interval(2000's) => tomatometer_rating_interval(>90) | ---\n",
      "    27   110 0.887 +3.755 production_company(New Yorker Films) & release_decade_interval(1970's) => tomatometer_rating_interval(>90) | ---\n",
      "    28   115 1.000 +4.361 production_company(Paladin Pictures) & release_decade_interval(2010's) => tomatometer_rating_interval(>90) | ---\n",
      "    29   130 0.909 +3.873 production_company(Paramount Home Video) & release_decade_interval(1950's) => tomatometer_rating_interval(>90) | ---\n",
      "    30   143 0.831 +3.457 production_company(Paramount Pictures) & release_decade_interval(1940's) => tomatometer_rating_interval(>90) | ---\n",
      "    31   141 1.000 +4.361 production_company(Paramount/DWA) & release_decade_interval(2010's) => tomatometer_rating_interval(>90) | ---\n",
      "    32   190 1.000 +4.361 production_company(Petit Film) & release_decade_interval(2010's) => tomatometer_rating_interval(>90) | ---\n",
      "    33   116 1.000 +4.361 production_company(Piki Films) & release_decade_interval(2010's) => tomatometer_rating_interval(>90) | ---\n",
      "    34   252 0.810 +3.344 production_company(Rialto Pictures) & release_decade_interval(1960's) => tomatometer_rating_interval(>90) | ---\n",
      "    35   100 1.000 +4.361 production_company(Rialto Pictures) & release_decade_interval(1980's) => tomatometer_rating_interval(>90) | ---\n",
      "    36   192 1.000 +4.361 production_company(Roadside Attractions ) & release_decade_interval(2010's) => tomatometer_rating_interval(>90) | ---\n",
      "    37   137 1.000 +4.361 production_company(Rogue Pictures/Focus Features) & release_decade_interval(2000's) => tomatometer_rating_interval(>90) | ---\n",
      "    38   126 1.000 +4.361 production_company(SBS Productions) & release_decade_interval(2010's) => tomatometer_rating_interval(>90) | ---\n",
      "    39   204 1.000 +4.361 production_company(Scott Rudin Productions) & release_decade_interval(2010's) => tomatometer_rating_interval(>90) | ---\n",
      "    40   142 1.000 +4.361 production_company(Shudder and NEON) & release_decade_interval(2010's) => tomatometer_rating_interval(>90) | ---\n",
      "    41   152 1.000 +4.361 production_company(Starburns Industries) & release_decade_interval(2010's) => tomatometer_rating_interval(>90) | ---\n",
      "    42   122 0.968 +4.190 production_company(The Cinema Guild) & release_decade_interval(2010's) => tomatometer_rating_interval(>90) | ---\n",
      "    43   195 1.000 +4.361 production_company(United Artists) & release_decade_interval(2010's) => tomatometer_rating_interval(>90) | ---\n",
      "    44   112 0.911 +3.881 production_company(United Artists Films) & release_decade_interval(2000's) => tomatometer_rating_interval(>90) | ---\n",
      "    45   191 0.834 +3.471 production_company(Universal Pictures) & release_decade_interval(1940's) => tomatometer_rating_interval(>90) | ---\n",
      "    46   102 0.850 +3.557 production_company(WARNER BROTHERS PICTURES) & release_decade_interval(1930's) => tomatometer_rating_interval(>90) | ---\n",
      "    47   100 0.909 +3.873 production_company(Warner Bros. Pictures) & release_decade_interval(1930's) => tomatometer_rating_interval(>90) | ---\n",
      "    48   307 0.819 +3.389 production_company(Warner Bros. Pictures) & release_decade_interval(1950's) => tomatometer_rating_interval(>90) | ---\n",
      "    49   203 1.000 +4.361 production_company(Warner Bros. Pictures/Legendary) & release_decade_interval(2000's) => tomatometer_rating_interval(>90) | ---\n",
      "    50   117 1.000 +4.361 production_company(s) & release_decade_interval(2010's) => tomatometer_rating_interval(>90) | ---\n",
      "\n",
      "\n",
      "\n",
      "Rule id : 2\n",
      "\n",
      "Base :   241  Relative base : 0.000  CONF : 1.000  AAD : +4.361  BAD : -4.361\n",
      "\n",
      "Cedents:\n",
      "  antecedent : production_company(21 Laps Entertainment) & release_decade_interval(2010's)\n",
      "  succcedent : tomatometer_rating_interval(>90)\n",
      "  condition  : ---\n",
      "\n",
      "Fourfold table\n",
      "    |  S  |  ¬S |\n",
      "----|-----|-----|\n",
      " A  |  241|    0|\n",
      "----|-----|-----|\n",
      "¬A  |127035|555007|\n",
      "----|-----|-----|\n",
      "\n"
     ]
    }
   ],
   "source": [
    "\n",
    "df = data\n",
    "df=df.loc[:, ('tomatometer_rating_interval', 'release_decade_interval', 'production_company')]\n",
    "\n",
    "\n",
    "\n",
    "clm = cleverminer(df=df,proc='4ftMiner',\n",
    "               quantifiers= {'conf':0.8, 'Base': 100},\n",
    "               ante ={\n",
    "                    'attributes':[\n",
    "                        {'name': 'production_company', 'type': 'subset', 'minlen': 1, 'maxlen': 1},\n",
    "                        {'name': 'release_decade_interval', 'type': 'subset', 'minlen': 1, 'maxlen': 1},\n",
    "                    ], 'minlen':2, 'maxlen':2, 'type':'con'},\n",
    "               succ ={\n",
    "                    'attributes':[\n",
    "                        {'name': 'tomatometer_rating_interval', 'type': 'one', 'value': '>90'},\n",
    "                    ], 'minlen':1, 'maxlen':1, 'type':'con'}\n",
    "               )\n",
    "\n",
    "# print(clm.result)\n",
    "clm.print_summary()\n",
    "clm.print_rulelist()\n",
    "clm.print_rule(2)"
   ]
  },
  {
   "cell_type": "markdown",
   "id": "de170a5f",
   "metadata": {},
   "source": [
    "## Question X: Hledání souvislosti mezi režiséry a review score"
   ]
  },
  {
   "cell_type": "markdown",
   "id": "e8827b32",
   "metadata": {},
   "source": [
    "### Jak se liší hodnocení filmů na základě režiséra, doby trvání a vhodnosti obsahu"
   ]
  },
  {
   "cell_type": "code",
   "execution_count": 30,
   "id": "b29f5adb",
   "metadata": {},
   "outputs": [
    {
     "name": "stdout",
     "output_type": "stream",
     "text": [
      "Cleverminer version 1.0.2. Note: This version is for personal and educational use only. If you need PRO version (support, fixing structures for compactibility in future versions for production deployment, additional development, licensing of commercial use of subroutines used), feel free to ask authors. Most of these functionalities are maintained in best-effort, as soon as this project is at given conditions for free use and rapid development is needed, they cannot be guaranteed.\n",
      "Starting data preparation ...\n",
      "Encoding columns into bit-form...\n",
      "Encoding columns into bit-form...done\n",
      "Data preparation finished.\n",
      "Will go for  4ftMiner\n",
      "Starting to mine rules.\n",
      "Done. Total verifications : 9780, rules 30,control number:0, times: prep 28.036372900009155, processing 16.148449897766113\n",
      "\n",
      "CleverMiner task processing summary:\n",
      "\n",
      "Task type : 4ftMiner\n",
      "Number of verifications : 9780\n",
      "Number of rules : 30\n",
      "Total time needed : 00h 00m 44s\n",
      "Time of data preparation : 00h 00m 28s\n",
      "Time of rule mining : 00h 00m 16s\n",
      "\n",
      "\n",
      "List of rules:\n",
      "RULEID BASE  CONF  AAD    Rule\n",
      "     1    80 0.870 +8.264 directors(Akira Kurosawa) & runtime_interval(>2.5h) & content_rating(G) => review_score_interval(>90) | ---\n",
      "     2    84 0.824 +7.773 directors(Akira Kurosawa) & content_rating(G) => review_score_interval(>90) | ---\n",
      "     3    53 0.828 +7.822 directors(Carol Reed) & runtime_interval(1.5-1.75h) => review_score_interval(>90) | ---\n",
      "     4    53 0.828 +7.822 directors(Carol Reed) & runtime_interval(1.5-1.75h) & content_rating(NR) => review_score_interval(>90) | ---\n",
      "     5    53 0.855 +8.107 directors(Fritz Lang) & runtime_interval(2-2.5) & content_rating(PG-13) => review_score_interval(>90) | ---\n",
      "     6    53 0.855 +8.107 directors(Fritz Lang) & content_rating(PG-13) => review_score_interval(>90) | ---\n",
      "     7    56 0.889 +8.470 directors(Jean Renoir) & runtime_interval(1.75-2h) => review_score_interval(>90) | ---\n",
      "     8    56 0.889 +8.470 directors(Jean Renoir) & runtime_interval(1.75-2h) & content_rating(NR) => review_score_interval(>90) | ---\n",
      "     9    70 0.814 +7.671 directors(John Huston, Billy Wilder) & runtime_interval(2-2.5) => review_score_interval(>90) | ---\n",
      "    10    70 0.814 +7.671 directors(John Huston, Billy Wilder) & runtime_interval(2-2.5) & content_rating(G) => review_score_interval(>90) | ---\n",
      "    11    70 0.814 +7.671 directors(John Huston, Billy Wilder) & content_rating(G) => review_score_interval(>90) | ---\n",
      "    12   130 0.812 +1.222 directors(John M. Maclean) & runtime_interval(1.5-1.75h) => review_score_interval(70-90) | ---\n",
      "    13   130 0.812 +1.222 directors(John M. Maclean) & runtime_interval(1.5-1.75h) & content_rating(R) => review_score_interval(70-90) | ---\n",
      "    14   130 0.812 +1.222 directors(John M. Maclean) & content_rating(R) => review_score_interval(70-90) | ---\n",
      "    15    58 0.879 +8.362 directors(King Vidor, Victor Fleming) & runtime_interval(1.5-1.75h) => review_score_interval(>90) | ---\n",
      "    16    58 0.879 +8.362 directors(King Vidor, Victor Fleming) & runtime_interval(1.5-1.75h) & content_rating(G) => review_score_interval(>90) | ---\n",
      "    17    58 0.879 +8.362 directors(King Vidor, Victor Fleming) & content_rating(G) => review_score_interval(>90) | ---\n",
      "    18    54 0.806 +1.204 directors(Lauren Greenfield) & runtime_interval(1.5-1.75h) => review_score_interval(70-90) | ---\n",
      "    19    54 0.806 +1.204 directors(Lauren Greenfield) & runtime_interval(1.5-1.75h) & content_rating(PG) => review_score_interval(70-90) | ---\n",
      "    20    54 0.806 +1.204 directors(Lauren Greenfield) & content_rating(PG) => review_score_interval(70-90) | ---\n",
      "    21    79 0.806 +1.205 directors(Paul King (VII), Marcos Da Silva) & runtime_interval(1.5-1.75h) => review_score_interval(70-90) | ---\n",
      "    22    79 0.806 +1.205 directors(Paul King (VII), Marcos Da Silva) & runtime_interval(1.5-1.75h) & content_rating(PG) => review_score_interval(70-90) | ---\n",
      "    23    79 0.806 +1.205 directors(Paul King (VII), Marcos Da Silva) & content_rating(PG) => review_score_interval(70-90) | ---\n",
      "    24    77 0.802 +7.545 directors(Stanley Donen, Gene Kelly) & runtime_interval(1.5-1.75h) => review_score_interval(>90) | ---\n",
      "    25    72 0.947 +9.093 directors(Stanley Donen, Gene Kelly) & runtime_interval(1.5-1.75h) & content_rating(G) => review_score_interval(>90) | ---\n",
      "    26    72 0.947 +9.093 directors(Stanley Donen, Gene Kelly) & content_rating(G) => review_score_interval(>90) | ---\n",
      "    27    53 0.803 +1.196 directors(Tobias Lindholm) & runtime_interval(1.5-1.75h) => review_score_interval(70-90) | ---\n",
      "    28    53 0.803 +1.196 directors(Tobias Lindholm) & runtime_interval(1.5-1.75h) & content_rating(R) => review_score_interval(70-90) | ---\n",
      "    29   131 0.819 +10.793 directors(Uwe Boll) & runtime_interval(1.5-1.75h) => review_score_interval(<30) | ---\n",
      "    30   131 0.819 +10.793 directors(Uwe Boll) & runtime_interval(1.5-1.75h) & content_rating(R) => review_score_interval(<30) | ---\n",
      "\n",
      "\n",
      "\n",
      "Rule id : 2\n",
      "\n",
      "Base :    84  Relative base : 0.000  CONF : 0.824  AAD : +7.773  BAD : -7.773\n",
      "\n",
      "Cedents:\n",
      "  antecedent : directors(Akira Kurosawa) & content_rating(G)\n",
      "  succcedent : review_score_interval(>90)\n",
      "  condition  : ---\n",
      "\n",
      "Fourfold table\n",
      "    |  S  |  ¬S |\n",
      "----|-----|-----|\n",
      " A  |   84|   18|\n",
      "----|-----|-----|\n",
      "¬A  |64475|623189|\n",
      "----|-----|-----|\n",
      "\n"
     ]
    }
   ],
   "source": [
    "# be patient, runs approx 50secs!\n",
    "df = data\n",
    "df=df.loc[:, ('directors', 'runtime_interval', 'content_rating', 'review_score_interval')]\n",
    "\n",
    "clm = cleverminer(df=df,proc='4ftMiner',\n",
    "               quantifiers= {'conf':0.8, 'Base': 50},\n",
    "               ante ={\n",
    "                    'attributes':[\n",
    "                        {'name': 'directors', 'type': 'subset', 'minlen': 1, 'maxlen': 1},\n",
    "                        {'name': 'runtime_interval', 'type': 'subset', 'minlen': 1, 'maxlen': 1},\n",
    "                        {'name': 'content_rating', 'type': 'subset', 'minlen': 1, 'maxlen': 1},\n",
    "                    ], 'minlen':2, 'maxlen':3, 'type':'con'},\n",
    "               succ ={\n",
    "                    'attributes':[\n",
    "                        {'name': 'review_score_interval', 'type': 'subset', 'minlen': 1, 'maxlen': 1},\n",
    "                    ], 'minlen':1, 'maxlen':1, 'type':'con'}\n",
    "               )\n",
    "\n",
    "clm.print_summary()\n",
    "clm.print_rulelist()\n",
    "clm.print_rule(2)"
   ]
  },
  {
   "cell_type": "markdown",
   "id": "f1a82460",
   "metadata": {},
   "source": [
    "## Question Y: Hledání souvislosti mezi kritiky a review score"
   ]
  },
  {
   "cell_type": "markdown",
   "id": "899e98bb",
   "metadata": {},
   "source": [
    "### Jak se liší hodnocení filmů na základě kritika, zda je kritic top a  doby trvání"
   ]
  },
  {
   "cell_type": "code",
   "execution_count": null,
   "id": "40ec28e4",
   "metadata": {},
   "outputs": [],
   "source": [
    "# be patient, runs approx 50secs!\n",
    "df = data\n",
    "df=df.loc[:, ('critic_name', 'runtime_interval', 'review_score', 'top_critic', 'review_score_interval')]\n",
    "\n",
    "clm = cleverminer(df=df,proc='4ftMiner',\n",
    "               quantifiers= {'conf':0.8, 'Base': 50},\n",
    "               ante ={\n",
    "                    'attributes':[\n",
    "                        {'name': 'critic_name', 'type': 'subset', 'minlen': 1, 'maxlen': 1},\n",
    "                        {'name': 'runtime_interval', 'type': 'subset', 'minlen': 1, 'maxlen': 1},\n",
    "                        {'name': 'top_critic', 'type': 'subset', 'minlen': 1, 'maxlen': 1},\n",
    "                    ], 'minlen':2, 'maxlen':3, 'type':'con'},\n",
    "               succ ={\n",
    "                    'attributes':[\n",
    "                        {'name': 'review_score_interval', 'type': 'subset', 'minlen': 1, 'maxlen': 1},\n",
    "                    ], 'minlen':1, 'maxlen':1, 'type':'con'}\n",
    "               )\n",
    "\n",
    "clm.print_summary()\n",
    "clm.print_rulelist()\n",
    "clm.print_rule(2)"
   ]
  },
  {
   "cell_type": "markdown",
   "id": "92c3a213",
   "metadata": {},
   "source": [
    "## Bonus: Nicolas Cage"
   ]
  },
  {
   "cell_type": "code",
   "execution_count": 21,
   "id": "3c3f5d00",
   "metadata": {},
   "outputs": [],
   "source": [
    "def is_nicolas(row):\n",
    "    if 'Nicolas Cage' in row['actors']:\n",
    "        return True\n",
    "    else: return False\n",
    "data[\"nicolas cage\"] = data.apply(is_nicolas, axis=1)"
   ]
  },
  {
   "cell_type": "code",
   "execution_count": 26,
   "id": "a54c829b",
   "metadata": {},
   "outputs": [
    {
     "name": "stdout",
     "output_type": "stream",
     "text": [
      "Cleverminer version 1.0.2. Note: This version is for personal and educational use only. If you need PRO version (support, fixing structures for compactibility in future versions for production deployment, additional development, licensing of commercial use of subroutines used), feel free to ask authors. Most of these functionalities are maintained in best-effort, as soon as this project is at given conditions for free use and rapid development is needed, they cannot be guaranteed.\n",
      "Starting data preparation ...\n",
      "Encoding columns into bit-form...\n",
      "Encoding columns into bit-form...done\n",
      "Data preparation finished.\n",
      "Will go for  4ftMiner\n",
      "Starting to mine rules.\n",
      "Done. Total verifications : 43, rules 2,control number:0, times: prep 2.6506078243255615, processing 0.043886661529541016\n",
      "\n",
      "CleverMiner task processing summary:\n",
      "\n",
      "Task type : 4ftMiner\n",
      "Number of verifications : 43\n",
      "Number of rules : 2\n",
      "Total time needed : 00h 00m 02s\n",
      "Time of data preparation : 00h 00m 02s\n",
      "Time of rule mining : 00h 00m 00s\n",
      "\n",
      "\n",
      "List of rules:\n",
      "RULEID BASE  CONF  AAD    Rule\n",
      "     1 57898 0.419 +0.146 nicolas cage(False) & runtime_interval(2-2.5) => review_score_interval(70-90) | ---\n",
      "     2  8182 0.417 +0.142 nicolas cage(False) & runtime_interval(>2.5h) => review_score_interval(70-90) | ---\n",
      "\n",
      "\n",
      "\n",
      "Rule id : 2\n",
      "\n",
      "Base :  8182  Relative base : 0.012  CONF : 0.417  AAD : +0.142  BAD : -0.142\n",
      "\n",
      "Cedents:\n",
      "  antecedent : nicolas cage(False) & runtime_interval(>2.5h)\n",
      "  succcedent : review_score_interval(70-90)\n",
      "  condition  : ---\n",
      "\n",
      "Fourfold table\n",
      "    |  S  |  ¬S |\n",
      "----|-----|-----|\n",
      " A  | 8182|11422|\n",
      "----|-----|-----|\n",
      "¬A  |243276|424886|\n",
      "----|-----|-----|\n",
      "\n"
     ]
    }
   ],
   "source": [
    "#JSOU FILMY S NICOLASEM CAGEM DOBRÉ?\n",
    "df = data\n",
    "df=df.loc[:, ('nicolas cage', 'runtime_interval', 'review_score', 'review_score_interval', 'tomatometer_rating')]\n",
    "\n",
    "\n",
    "\n",
    "\n",
    "clm = cleverminer(df=df,proc='4ftMiner',\n",
    "               quantifiers= {'conf':0.4, 'Base': 50},\n",
    "               ante ={\n",
    "                    'attributes':[\n",
    "                        {'name': 'nicolas cage', 'type': 'subset', 'minlen': 1, 'maxlen': 1},\n",
    "                        {'name': 'runtime_interval', 'type': 'subset', 'minlen': 1, 'maxlen': 1},\n",
    "                    ], 'minlen':2, 'maxlen':2, 'type':'con'},\n",
    "               succ ={\n",
    "                    'attributes':[\n",
    "                        {'name': 'review_score_interval', 'type': 'subset', 'minlen': 1, 'maxlen': 1}\n",
    "                    ], 'minlen':1, 'maxlen':1, 'type':'con'}\n",
    "               )\n",
    "\n",
    "clm.print_summary()\n",
    "clm.print_rulelist()\n",
    "clm.print_rule(2)"
   ]
  }
 ],
 "metadata": {
  "kernelspec": {
   "display_name": "Python 3 (ipykernel)",
   "language": "python",
   "name": "python3"
  },
  "language_info": {
   "codemirror_mode": {
    "name": "ipython",
    "version": 3
   },
   "file_extension": ".py",
   "mimetype": "text/x-python",
   "name": "python",
   "nbconvert_exporter": "python",
   "pygments_lexer": "ipython3",
   "version": "3.10.2"
  },
  "vscode": {
   "interpreter": {
    "hash": "992252dddbe3e49fa5f5e4b4a6b31063f5a7ba5082c65947d4c2f04b2b0f29df"
   }
  }
 },
 "nbformat": 4,
 "nbformat_minor": 5
}
